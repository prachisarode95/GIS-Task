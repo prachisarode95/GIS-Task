{
 "cells": [
  {
   "cell_type": "markdown",
   "metadata": {},
   "source": [
    "# Task: Create the MSAVI-2 Index using Sentinel-2/Landsat-8 using given input of 3 locations and dates \n"
   ]
  },
  {
   "cell_type": "markdown",
   "metadata": {},
   "source": [
    "Requirements: \n",
    "\n",
    "1. Install Anaconda and Jupyter Notebook through it.\n",
    "2. Create an environment in anaconda to install python libraries and packages in it.\n",
    "3. Install Python libraries and packages using anaconda prompt to the created environment address."
   ]
  },
  {
   "cell_type": "code",
   "execution_count": null,
   "metadata": {},
   "outputs": [],
   "source": [
    "'''Here, we have to import necessary python library n package provided from Google Earth Engine and then activate google earth engine \n",
    "authentication with using your personal credentials'''\n",
    "\n",
    "#Import Python library and package especially to add Google Earth Engine functionalities into the map \n",
    "import ee\n",
    "import geemap"
   ]
  },
  {
   "cell_type": "markdown",
   "metadata": {},
   "source": [
    "When asked for credentials, put your google api key for successful authentication.\n",
    "(Create account on 'Google Cloud Platform' to get your personal api key)"
   ]
  },
  {
   "cell_type": "code",
   "execution_count": null,
   "metadata": {},
   "outputs": [],
   "source": [
    "#Add a google map using geemap package\n",
    "Map = geemap.Map()\n",
    "\n",
    "#Upload the landsat-8 satellite image directly from google earth engine datasets and add to the map\n",
    "sat_img = ee.ImageCollection(\"LANDSAT/LC08/C01/T1\")\n",
    "Map.addLayer(sat_img)\n",
    "Map"
   ]
  },
  {
   "cell_type": "markdown",
   "metadata": {},
   "source": [
    "# Add Geometries to the map"
   ]
  },
  {
   "cell_type": "code",
   "execution_count": null,
   "metadata": {},
   "outputs": [],
   "source": [
    "#Set variables to add the geometries to the map using given coordinates for the 3 given locations\n",
    "poly1 = ee.Geometry.Polygon([[\n",
    "\n",
    "  [75.45157492160797,30.634404129904425],\n",
    "  [75.4524278640747,30.63372099804389],\n",
    "  [75.45236885547638,30.634399514164798],\n",
    "  [75.45157492160797,30.634404129904425]\n",
    "\n",
    "  ]] )\n",
    "\n",
    "poly2 = ee.Geometry.Polygon([[\n",
    "\n",
    "[85.85622847080231,26.09425078918021],\n",
    "[85.85590660572052,26.093581136401006],\n",
    "[85.85663080215454,26.09337879451938 ],\n",
    "[85.85686147212981,26.094009907326967],\n",
    "[85.85622847080231,26.09425078918021]\n",
    "\n",
    "  ]] )\n",
    "\n",
    "poly3 = ee.Geometry.Polygon([[\n",
    "\n",
    "[78.66571158170699,17.66869116558751],\n",
    "[78.6662346124649,17.6686911655875],\n",
    "[78.6662346124649,17.66929686130703],\n",
    "[78.66571158170699,17.66929686130703],\n",
    "[78.66571158170699,17.66869116558751]\n",
    "\n",
    "  ]] )"
   ]
  },
  {
   "cell_type": "markdown",
   "metadata": {},
   "source": [
    "Now, we have to set the zoom level to add the geometry layers at a certain extent according to the map scale"
   ]
  },
  {
   "cell_type": "code",
   "execution_count": null,
   "metadata": {},
   "outputs": [],
   "source": [
    "#set the zoom level of the map to a certain extent\n",
    "Map.centerObject(poly1,30)\n",
    "Map.addLayer(poly1)\n",
    "\n",
    "Map.centerObject(poly2,30)\n",
    "Map.addLayer(poly2)\n",
    "\n",
    "Map.centerObject(poly3,30)\n",
    "Map.addLayer(poly3)"
   ]
  },
  {
   "cell_type": "markdown",
   "metadata": {},
   "source": [
    "Before proceeding to the image processing, we have to remove clouds from the satellite image to get accurate results further."
   ]
  },
  {
   "cell_type": "code",
   "execution_count": null,
   "metadata": {},
   "outputs": [],
   "source": [
    "#set a function for cloud removal task\n",
    "def maskClouds(image):\n",
    "    cloudShadowBitMask = ee.Number(2).pow(3).int() # # Bits 3 and 5 are cloud shadow and cloud, respectively.\n",
    "    cloudsBitMask = ee.Number(2).pow(5).int()\n",
    "    \n",
    "    # # Get the pixel QA band.\n",
    "    qa = image.select('pixel_qa')\n",
    "    \n",
    "    # # Both flags should be set to zero, indicating clear conditions.\n",
    "    mask = qa.bitwiseAnd(cloudShadowBitMask).eq(0).And(qa.bitwiseAnd(cloudsBitMask).eq(0))\n",
    "    \n",
    "    # # Return the masked image, scaled to [0, 1].    \n",
    "    return image.updateMask(mask).divide(10000).copyProperties(image, [\"system:time_start\"])"
   ]
  },
  {
   "cell_type": "markdown",
   "metadata": {},
   "source": [
    "# MSAVI2 Time Series Analysis"
   ]
  },
  {
   "cell_type": "markdown",
   "metadata": {},
   "source": [
    " \n",
    "   **(2 * NIR + 1 - sqrt(pow((2 * NIR + 1), 2) - 8 * (NIR - RED)) ) / 2**\n",
    "   \n",
    "   Using the above expression, we will calculate MSAVI2 for the LANDSAT-8 image and for that we have to set a function as following:"
   ]
  },
  {
   "cell_type": "code",
   "execution_count": null,
   "metadata": {},
   "outputs": [],
   "source": [
    "#set a function with formula to calculate MSAVI using specific bands\n",
    "def addMSAVI2(image):\n",
    "    msavi = image.expression(\n",
    "    '(2 * NIR + 1 - sqrt(pow((2 * NIR + 1), 2) - 8 * (NIR - RED)) ) / 2',\n",
    "    {\n",
    "      'NIR': image.select('B5'),\n",
    "      'RED': image.select('B4')\n",
    "    }\n",
    "    ).rename('MSAVI')\n",
    "    return image.addBands(msavi)"
   ]
  },
  {
   "cell_type": "markdown",
   "metadata": {},
   "source": [
    "Let's move to the time series chart making process."
   ]
  },
  {
   "cell_type": "code",
   "execution_count": null,
   "metadata": {},
   "outputs": [],
   "source": [
    "#set the dates and the conditions to visualise the chart results for 3 specific locations\n",
    "startDate ='2020-01-01'\n",
    "endDate ='2020-06-30'\n",
    "\n",
    "msavi_poly1 = sat_img.filterDate(startDate,endDate) \\\n",
    "    .filterBounds(poly1) \\\n",
    "    .map(maskClouds) \\\n",
    "    .map(addMSAVI2)\n",
    "\n",
    "print(msavi_poly1)\n",
    "# Map.addLayer(msavi_poly1)\n",
    "\n",
    "msavi2_2 = sat_img.filterDate(startDate,endDate) \\\n",
    "    .filterBounds(poly2) \\\n",
    "    .map(maskClouds) \\\n",
    "    .map(addMSAVI2)\n",
    "\n",
    "print(msavi_poly2)\n",
    "# Map.addLayer(msavi_poly2)\n",
    "\n",
    "msavi_poly3 = sat_img.filterDate(startDate,endDate) \\\n",
    "    .filterBounds(poly3) \\\n",
    "    .map(maskClouds) \\\n",
    "    .map(addMSAVI2)\n",
    "\n",
    "print(msavi_poly3)\n",
    "# Map.addLayer(msavi_poly3)"
   ]
  },
  {
   "cell_type": "markdown",
   "metadata": {},
   "source": [
    "# Time Series Chart for 1st location"
   ]
  },
  {
   "cell_type": "code",
   "execution_count": null,
   "metadata": {},
   "outputs": [],
   "source": [
    "#prepare a chart for 1st place/location\n",
    "\n",
    "place1 = ui.Chart.image.seriesByRegion({\n",
    "    'imageCollection': msavi2_2,\n",
    "    'band': 'MSAVI',\n",
    "    'regions': poly1,\n",
    "    'reducer': ee.Reducer.mean(),\n",
    "    'scale': 30,\n",
    "    'seriesProperty': 'label',\n",
    "    'xProperty': 'system:time_start'}).setChartType('LineChart').setOptions({\n",
    "    'title': 'MSAVI2 Time Series Map for poly1 ',\n",
    "    'hAxis': {'title': 'Date', 'titleTextStyle': {'italic': False, 'bold': True}},\n",
    "    'vAxis': {'title': 'MSAVI2 Value ranges', 'titleTextStyle': {'italic': False, 'bold': True}}\n",
    "    'lineWidth': 5,\n",
    "    'colors': ['f0af07', '0f8755', '76b349']})\n",
    "print(place1)"
   ]
  },
  {
   "cell_type": "markdown",
   "metadata": {},
   "source": [
    "# Time Series Chart for 2nd location"
   ]
  },
  {
   "cell_type": "code",
   "execution_count": null,
   "metadata": {},
   "outputs": [],
   "source": [
    "#prepare a chart for 2nd place/location\n",
    "place_2 =\n",
    "ui.Chart.image.seriesByRegion({\n",
    "    'imageCollection': msavi2_2,\n",
    "    'band': 'MSAVI',\n",
    "    'regions': poly2,\n",
    "    'reducer': ee.Reducer.mean(),\n",
    "    'scale': 30,\n",
    "    'seriesProperty': 'label',\n",
    "    'xProperty': 'system:time_start'}).setChartType('LineChart').setOptions({\n",
    "    'title': 'MSAVI2 Time Series Map for poly2 ',\n",
    "    'hAxis': {'title': 'Date', 'titleTextStyle': {'italic': False, 'bold': True}},\n",
    "    'vAxis': {'title': 'MSAVI2 Value ranges', 'titleTextStyle': {'italic': False, 'bold': True}}\n",
    "    'lineWidth': 5,\n",
    "    'colors': ['f0af07', '0f8755', '76b349']})\n",
    "print(place_2)"
   ]
  },
  {
   "cell_type": "markdown",
   "metadata": {},
   "source": [
    "# Time Series Chart for 3rd location"
   ]
  },
  {
   "cell_type": "code",
   "execution_count": null,
   "metadata": {},
   "outputs": [],
   "source": [
    "#prepare a chart for 3rd place/location\n",
    "place_3 =\n",
    "ui.Chart.image.seriesByRegion({\n",
    "    'imageCollection': msavi2_2,\n",
    "    'band': 'MSAVI',\n",
    "    'regions': poly3,\n",
    "    'reducer': ee.Reducer.mean(),\n",
    "    'scale': 30,\n",
    "    'seriesProperty': 'label',\n",
    "    'xProperty': 'system:time_start'}).setChartType('LineChart').setOptions({\n",
    "    'title': 'MSAVI2 Time Series Map for poly3 ',\n",
    "    'hAxis': {'title': 'Date', 'titleTextStyle': {'italic': False, 'bold': True}},\n",
    "    'vAxis': {'title': 'MSAVI2 Value ranges', 'titleTextStyle': {'italic': False, 'bold': True}}\n",
    "    'lineWidth': 5,\n",
    "    'colors': ['f0af07', '0f8755', '76b349']})\n",
    "print(place_3)"
   ]
  }
 ],
 "metadata": {
  "kernelspec": {
   "display_name": "Python 3",
   "language": "python",
   "name": "python3"
  },
  "language_info": {
   "codemirror_mode": {
    "name": "ipython",
    "version": 3
   },
   "file_extension": ".py",
   "mimetype": "text/x-python",
   "name": "python",
   "nbconvert_exporter": "python",
   "pygments_lexer": "ipython3",
   "version": "3.8.5"
  }
 },
 "nbformat": 4,
 "nbformat_minor": 4
}
